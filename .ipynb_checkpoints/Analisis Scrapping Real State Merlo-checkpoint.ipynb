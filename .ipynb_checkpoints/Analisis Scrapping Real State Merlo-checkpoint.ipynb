{
 "cells": [
  {
   "cell_type": "markdown",
   "id": "db49b97d",
   "metadata": {},
   "source": [
    "# ¿Cuanto valen las Casas en Merlo San Luis?\n",
    "### Scrapeamos una inmobiliaria random, y analizamos los datos:"
   ]
  },
  {
   "cell_type": "code",
   "execution_count": 243,
   "id": "8312c333",
   "metadata": {},
   "outputs": [],
   "source": [
    "import pandas as pd\n",
    "import seaborn as sns\n",
    "df = pd.read_csv('list.csv')"
   ]
  },
  {
   "cell_type": "code",
   "execution_count": 244,
   "id": "2ac88e56",
   "metadata": {},
   "outputs": [
    {
     "data": {
      "text/html": [
       "<div>\n",
       "<style scoped>\n",
       "    .dataframe tbody tr th:only-of-type {\n",
       "        vertical-align: middle;\n",
       "    }\n",
       "\n",
       "    .dataframe tbody tr th {\n",
       "        vertical-align: top;\n",
       "    }\n",
       "\n",
       "    .dataframe thead th {\n",
       "        text-align: right;\n",
       "    }\n",
       "</style>\n",
       "<table border=\"1\" class=\"dataframe\">\n",
       "  <thead>\n",
       "    <tr style=\"text-align: right;\">\n",
       "      <th></th>\n",
       "      <th>Price</th>\n",
       "      <th>Descripcion</th>\n",
       "      <th>ItemAddressList</th>\n",
       "      <th>Zona</th>\n",
       "      <th>Codigo</th>\n",
       "    </tr>\n",
       "  </thead>\n",
       "  <tbody>\n",
       "    <tr>\n",
       "      <th>0</th>\n",
       "      <td>U$D 109.900</td>\n",
       "      <td>Propiedad a Estrenar en barrio residencial, Me...</td>\n",
       "      <td>Chacho Peñaloza Y Cañada De Los Zainos Nº S/N</td>\n",
       "      <td>Casa en Venta, Merlo</td>\n",
       "      <td>490</td>\n",
       "    </tr>\n",
       "    <tr>\n",
       "      <th>1</th>\n",
       "      <td>U$D 120.000</td>\n",
       "      <td>Hermosa , brillante, moderna, con luz natural ...</td>\n",
       "      <td>Damas Mendocinas  Nº 636</td>\n",
       "      <td>Casa en Venta, Merlo</td>\n",
       "      <td>731</td>\n",
       "    </tr>\n",
       "    <tr>\n",
       "      <th>2</th>\n",
       "      <td>U$D 75.000</td>\n",
       "      <td>Queremos que tu tiempo lo uses en lo mas impor...</td>\n",
       "      <td>Publica Nº S/N</td>\n",
       "      <td>Casa en Venta, Merlo</td>\n",
       "      <td>784</td>\n",
       "    </tr>\n",
       "  </tbody>\n",
       "</table>\n",
       "</div>"
      ],
      "text/plain": [
       "         Price                                        Descripcion  \\\n",
       "0  U$D 109.900  Propiedad a Estrenar en barrio residencial, Me...   \n",
       "1  U$D 120.000  Hermosa , brillante, moderna, con luz natural ...   \n",
       "2   U$D 75.000  Queremos que tu tiempo lo uses en lo mas impor...   \n",
       "\n",
       "                                 ItemAddressList                  Zona  Codigo  \n",
       "0  Chacho Peñaloza Y Cañada De Los Zainos Nº S/N  Casa en Venta, Merlo     490  \n",
       "1                       Damas Mendocinas  Nº 636  Casa en Venta, Merlo     731  \n",
       "2                                 Publica Nº S/N  Casa en Venta, Merlo     784  "
      ]
     },
     "execution_count": 244,
     "metadata": {},
     "output_type": "execute_result"
    }
   ],
   "source": [
    "#Realizar conteo de los datos... cuantos en pesos en dolares y cuantos \"consulte precio?\"\n",
    "#Filtramos los datos de las publicaciones de Merlo\n",
    "df.head(3)"
   ]
  },
  {
   "cell_type": "code",
   "execution_count": 245,
   "id": "037f48f8",
   "metadata": {},
   "outputs": [
    {
     "data": {
      "text/plain": [
       "array(['U$D 109.900', 'U$D 120.000', 'U$D 75.000', 'U$D 53.000',\n",
       "       'U$D 60.000', 'U$D 19.080', 'U$D 27.500', 'U$D 340.000',\n",
       "       'U$D 43.000', 'U$D 40.000', 'U$D 90.000', 'U$D 1.300.000',\n",
       "       'U$D 150.000', 'U$D 55.000', 'U$D 365.500', 'U$D 132.000',\n",
       "       'U$D 100.000', 'U$D 160.000', 'U$D 220.000', 'U$D 19.900',\n",
       "       'U$D 98.000', 'U$D 185.000', 'U$D 188.000', 'Consulte precio',\n",
       "       'U$D 95.000', 'U$D 200.000', 'U$D 30.000', 'U$D 77.000',\n",
       "       'U$D 16.000', 'U$D 79.000', 'U$D 600.000', 'U$D 25.000',\n",
       "       '$ 10.000', 'U$D 110.000', 'U$D 149.900', 'U$D 215.000',\n",
       "       'U$D 119.000', 'U$D 180.000', 'U$D 80.000', 'U$D 189.000',\n",
       "       'U$D 790.000', 'U$D 34.000', 'U$D 135.000', 'U$D 45.500',\n",
       "       'U$D 210.000', 'U$D 249.000', 'U$D 48.000', 'U$D 65.000',\n",
       "       'U$D 450.000', 'U$D 15.000', 'U$D 22.000', 'U$D 165.000',\n",
       "       'U$D 260.000', 'U$D 125.000', 'U$D 12.000', 'U$D 70.000',\n",
       "       'U$D 79.900', 'U$D 18.000', 'U$D 35.000', 'U$D 8.000',\n",
       "       'U$D 350.000', 'U$D 130.000', '$ 1.600.000', 'U$D 19.000',\n",
       "       'U$D 50.000', 'U$D 52.500', 'U$D 58.000', 'U$D 13.000',\n",
       "       'U$D 47.000', 'U$D 28.000', '$ 8.000', 'U$D 500.000', 'U$D 46.200',\n",
       "       'U$D 9.500', 'U$D 27.000', 'U$D 24.000', 'U$D 6.000', 'U$D 32.000',\n",
       "       'U$D 270.000', 'U$D 38.000', 'U$D 52.000', 'U$D 45.000',\n",
       "       'U$D 129.500', 'U$D 85.000', '$ 55.000', 'U$D 63.000',\n",
       "       'U$D 26.000', 'U$D 29.600', 'U$D 21.000', 'U$D 20.000',\n",
       "       'U$D 18.900', 'U$D 39.000', 'U$D 8.500', 'U$D 24.900',\n",
       "       'U$D 11.000', 'U$D 39.900', 'U$D 33.000', 'U$D 29.000',\n",
       "       'U$D 37.000', 'U$D 57.500', 'U$D 290.000', 'U$D 49.500',\n",
       "       'U$D 36.000', 'U$D 14.400', 'U$D 7.500', 'U$D 17.000',\n",
       "       'U$D 225.000', 'U$D 250.000', 'U$D 280.000', 'U$D 465.000',\n",
       "       'U$D 375.000', 'U$D 480.000', 'U$D 530.000', 'U$D 650.000',\n",
       "       'U$D 1.250.000', 'U$D 154.000', 'U$D 153.000', 'U$D 700.000',\n",
       "       'U$D 430.000', 'U$D 400.000', 'U$D 360.000'], dtype=object)"
      ]
     },
     "execution_count": 245,
     "metadata": {},
     "output_type": "execute_result"
    }
   ],
   "source": [
    "#Se observan que algunos valores poseen el signo $, pero se valida que serían valores erróneos por su relación al mercado y valores de demás inmuebles. Corresponde U$D\n",
    "df[\"Price\"].unique()"
   ]
  },
  {
   "cell_type": "code",
   "execution_count": null,
   "id": "c2803965",
   "metadata": {},
   "outputs": [],
   "source": []
  },
  {
   "cell_type": "code",
   "execution_count": 246,
   "id": "34491099",
   "metadata": {},
   "outputs": [],
   "source": [
    "valores = [\"U\", \"$\", \"D\", \"Consulte precio\"]\n",
    "for i in valores:\n",
    "    df[\"Price\"] = df[\"Price\"].apply(lambda x: x.replace(i,\"\"))\n"
   ]
  },
  {
   "cell_type": "code",
   "execution_count": 247,
   "id": "f960194a",
   "metadata": {},
   "outputs": [
    {
     "data": {
      "text/plain": [
       "370"
      ]
     },
     "execution_count": 247,
     "metadata": {},
     "output_type": "execute_result"
    }
   ],
   "source": [
    "len(df)"
   ]
  },
  {
   "cell_type": "code",
   "execution_count": 251,
   "id": "c6b05350",
   "metadata": {},
   "outputs": [
    {
     "data": {
      "text/plain": [
       "263"
      ]
     },
     "execution_count": 251,
     "metadata": {},
     "output_type": "execute_result"
    }
   ],
   "source": [
    "df[\"Codigo\"].nunique()"
   ]
  },
  {
   "cell_type": "code",
   "execution_count": 252,
   "id": "75594aaa",
   "metadata": {},
   "outputs": [],
   "source": [
    "df = df.drop_duplicates()"
   ]
  },
  {
   "cell_type": "code",
   "execution_count": null,
   "id": "d48fd759",
   "metadata": {},
   "outputs": [],
   "source": []
  },
  {
   "cell_type": "code",
   "execution_count": 255,
   "id": "363a0780",
   "metadata": {},
   "outputs": [
    {
     "name": "stderr",
     "output_type": "stream",
     "text": [
      "<ipython-input-255-6bc97215f4dd>:2: FutureWarning: The default value of regex will change from True to False in a future version. In addition, single character regular expressions will *not* be treated as literal strings when regex=True.\n",
      "  df.Price = pd.to_numeric(df[\"Price\"].str.replace(\".\",\"\"))\n"
     ]
    }
   ],
   "source": [
    "#Algunos ajustes\n",
    "df.Price = pd.to_numeric(df[\"Price\"].str.replace(\".\",\"\"))"
   ]
  },
  {
   "cell_type": "code",
   "execution_count": 275,
   "id": "30ba5a24",
   "metadata": {},
   "outputs": [
    {
     "ename": "SyntaxError",
     "evalue": "invalid syntax (<ipython-input-275-b57d76051da5>, line 3)",
     "output_type": "error",
     "traceback": [
      "\u001b[0;36m  File \u001b[0;32m\"<ipython-input-275-b57d76051da5>\"\u001b[0;36m, line \u001b[0;32m3\u001b[0m\n\u001b[0;31m    df2 = df[df[\"Zona\"].str.contains(pat=\"Casa\")\u001b[0m\n\u001b[0m    ^\u001b[0m\n\u001b[0;31mSyntaxError\u001b[0m\u001b[0;31m:\u001b[0m invalid syntax\n"
     ]
    }
   ],
   "source": [
    "#Filtramos los datos de las publicaciones de Merlo\n",
    "df2 = df[df[\"Zona\"].str.contains(pat=\"Merlo\")\n",
    "df2 = df[df[\"Zona\"].str.contains(pat=\"Casa\")}}"
   ]
  },
  {
   "cell_type": "code",
   "execution_count": 258,
   "id": "bb4b320c",
   "metadata": {},
   "outputs": [
    {
     "name": "stdout",
     "output_type": "stream",
     "text": [
      "False\n"
     ]
    }
   ],
   "source": [
    "#Descartamos que todas las publicaciones sean de casas:\n",
    "df3 = df2[df2[\"Zona\"].str.contains(pat=\"Casa\")]\n",
    "print(len(df2)==len(df3))"
   ]
  },
  {
   "cell_type": "markdown",
   "id": "f2127782",
   "metadata": {},
   "source": [
    "Tenemos 152 publicaciones,"
   ]
  },
  {
   "cell_type": "code",
   "execution_count": 263,
   "id": "035ddfcf",
   "metadata": {},
   "outputs": [
    {
     "data": {
      "text/plain": [
       "48"
      ]
     },
     "execution_count": 263,
     "metadata": {},
     "output_type": "execute_result"
    }
   ],
   "source": [
    "len(df3)"
   ]
  },
  {
   "cell_type": "markdown",
   "id": "2b2bd3ef",
   "metadata": {},
   "source": [
    "Tenemos un valor minimo de 8.000, un máximo de 160.000 y un promedio de 111.721,01"
   ]
  },
  {
   "cell_type": "code",
   "execution_count": 262,
   "id": "b4e09b87",
   "metadata": {},
   "outputs": [
    {
     "name": "stdout",
     "output_type": "stream",
     "text": [
      "Precio minimo 8000.0 Precio Máximo: 1600000.0 Promedio 111721.01\n"
     ]
    }
   ],
   "source": [
    "print(\"Precio minimo\",df2[\"Price\"].min(), \"Precio Máximo:\",df2[\"Price\"].max(), \"Promedio\",round(df2[\"Price\"].mean(),2))"
   ]
  },
  {
   "cell_type": "markdown",
   "id": "de282651",
   "metadata": {},
   "source": [
    "Distribución de Cantidad de Publicaciones según el precio"
   ]
  },
  {
   "cell_type": "code",
   "execution_count": 264,
   "id": "e506c1a3",
   "metadata": {},
   "outputs": [
    {
     "data": {
      "text/plain": [
       "<seaborn.axisgrid.FacetGrid at 0x7fea287679d0>"
      ]
     },
     "execution_count": 264,
     "metadata": {},
     "output_type": "execute_result"
    },
    {
     "data": {
      "image/png": "[encoded data removed]",
      "text/plain": [
       "<Figure size 360x360 with 1 Axes>"
      ]
     },
     "metadata": {
      "needs_background": "light"
     },
     "output_type": "display_data"
    }
   ],
   "source": [
    "sns.displot(x=\"Price\", data=df2, kind=\"kde\")"
   ]
  },
  {
   "cell_type": "code",
   "execution_count": 265,
   "id": "3457fbba",
   "metadata": {},
   "outputs": [
    {
     "data": {
      "text/plain": [
       "<seaborn.axisgrid.FacetGrid at 0x7fea287c8160>"
      ]
     },
     "execution_count": 265,
     "metadata": {},
     "output_type": "execute_result"
    },
    {
     "data": {
      "image/png": "[encoded data removed]",
      "text/plain": [
       "<Figure size 360x360 with 1 Axes>"
      ]
     },
     "metadata": {
      "needs_background": "light"
     },
     "output_type": "display_data"
    }
   ],
   "source": [
    "sns.displot(data=df2, x=\"Price\", kde = True)"
   ]
  },
  {
   "cell_type": "code",
   "execution_count": null,
   "id": "60cb079d",
   "metadata": {},
   "outputs": [],
   "source": []
  },
  {
   "cell_type": "code",
   "execution_count": 266,
   "id": "ab5fdf74",
   "metadata": {},
   "outputs": [],
   "source": [
    "dfCarp = df[df[\"Zona\"].str.contains(pat=\"Cortaderas\")]"
   ]
  },
  {
   "cell_type": "code",
   "execution_count": 267,
   "id": "b8c4bb88",
   "metadata": {},
   "outputs": [
    {
     "data": {
      "text/html": [
       "<div>\n",
       "<style scoped>\n",
       "    .dataframe tbody tr th:only-of-type {\n",
       "        vertical-align: middle;\n",
       "    }\n",
       "\n",
       "    .dataframe tbody tr th {\n",
       "        vertical-align: top;\n",
       "    }\n",
       "\n",
       "    .dataframe thead th {\n",
       "        text-align: right;\n",
       "    }\n",
       "</style>\n",
       "<table border=\"1\" class=\"dataframe\">\n",
       "  <thead>\n",
       "    <tr style=\"text-align: right;\">\n",
       "      <th></th>\n",
       "      <th>Price</th>\n",
       "      <th>Descripcion</th>\n",
       "      <th>ItemAddressList</th>\n",
       "      <th>Zona</th>\n",
       "      <th>Codigo</th>\n",
       "    </tr>\n",
       "  </thead>\n",
       "  <tbody>\n",
       "    <tr>\n",
       "      <th>5</th>\n",
       "      <td>19080.0</td>\n",
       "      <td>Villa Elena Norte Condominio El Algarrobo Prev...</td>\n",
       "      <td>Algarrobo Condominio Semi Cerrado  Nº 200</td>\n",
       "      <td>Terreno en Venta, Cortaderas</td>\n",
       "      <td>736</td>\n",
       "    </tr>\n",
       "    <tr>\n",
       "      <th>6</th>\n",
       "      <td>27500.0</td>\n",
       "      <td>Viva en Tierra Nativa...Increible lugar serran...</td>\n",
       "      <td>NaN</td>\n",
       "      <td>Terreno en Venta, Cortaderas</td>\n",
       "      <td>360</td>\n",
       "    </tr>\n",
       "    <tr>\n",
       "      <th>18</th>\n",
       "      <td>220000.0</td>\n",
       "      <td>Una hectárea en Cortaderas + 3 unidades</td>\n",
       "      <td>3 Unidades Con Pileta Nº S/N</td>\n",
       "      <td>Casa en Venta, Cortaderas</td>\n",
       "      <td>480</td>\n",
       "    </tr>\n",
       "    <tr>\n",
       "      <th>36</th>\n",
       "      <td>16000.0</td>\n",
       "      <td>Lote 1100 mts Un verdadero mirador natural a l...</td>\n",
       "      <td>NaN</td>\n",
       "      <td>Terreno en Venta, Cortaderas</td>\n",
       "      <td>162</td>\n",
       "    </tr>\n",
       "    <tr>\n",
       "      <th>42</th>\n",
       "      <td>25000.0</td>\n",
       "      <td>TERRENO LUGAR IDEAL EN ZONA DIQUE PISCU YACO</td>\n",
       "      <td>Ruta Al Piscu Yaco  Nº S/N</td>\n",
       "      <td>Terreno en Venta, Cortaderas</td>\n",
       "      <td>816</td>\n",
       "    </tr>\n",
       "    <tr>\n",
       "      <th>43</th>\n",
       "      <td>10000.0</td>\n",
       "      <td>Alquiler por Dia $ 10.000 para 5 TEMPORADA BAJA</td>\n",
       "      <td>Alquiler Por Día Cortaderas Nº S/N</td>\n",
       "      <td>Casa en Alquiler temporario, Cortaderas</td>\n",
       "      <td>685</td>\n",
       "    </tr>\n",
       "    <tr>\n",
       "      <th>74</th>\n",
       "      <td>180000.0</td>\n",
       "      <td>30 Has de Inmensidad y belleza para Emprendimi...</td>\n",
       "      <td>Km 27  Nº S/N</td>\n",
       "      <td>Campo en Venta, Cortaderas</td>\n",
       "      <td>415</td>\n",
       "    </tr>\n",
       "    <tr>\n",
       "      <th>109</th>\n",
       "      <td>260000.0</td>\n",
       "      <td>Impresionante Casa de 3 plantas en Quebrada de...</td>\n",
       "      <td>Publica Nº 1200</td>\n",
       "      <td>Casa en Venta, Cortaderas</td>\n",
       "      <td>841</td>\n",
       "    </tr>\n",
       "    <tr>\n",
       "      <th>127</th>\n",
       "      <td>19080.0</td>\n",
       "      <td>Algarrobo Condominio Semi Cerrado</td>\n",
       "      <td>Algarrobo Condominio Semi Cerrado Nº 200</td>\n",
       "      <td>Negocio Especial en Venta, Cortaderas</td>\n",
       "      <td>748</td>\n",
       "    </tr>\n",
       "    <tr>\n",
       "      <th>128</th>\n",
       "      <td>8000.0</td>\n",
       "      <td>Lote 500 mts con excepcional vista a las Sierr...</td>\n",
       "      <td>Ruta 1 Km 23 - Balcones De San Miguel Nº S/N</td>\n",
       "      <td>Terreno en Venta, Cortaderas</td>\n",
       "      <td>757</td>\n",
       "    </tr>\n",
       "    <tr>\n",
       "      <th>157</th>\n",
       "      <td>28000.0</td>\n",
       "      <td>2000m2 sobre Ruta n°1</td>\n",
       "      <td>Ruta N°1 Nº S/N</td>\n",
       "      <td>Terreno en Venta, Cortaderas</td>\n",
       "      <td>824</td>\n",
       "    </tr>\n",
       "    <tr>\n",
       "      <th>168</th>\n",
       "      <td>80000.0</td>\n",
       "      <td>Importante fracción de 9250m2</td>\n",
       "      <td>Ex Ruta 1 S/n Nº S/N</td>\n",
       "      <td>Terreno en Venta, Cortaderas</td>\n",
       "      <td>863</td>\n",
       "    </tr>\n",
       "    <tr>\n",
       "      <th>170</th>\n",
       "      <td>150000.0</td>\n",
       "      <td>Ecogranja autosustentable turística - 17.400 m...</td>\n",
       "      <td>Ruta 1 Km 22  Nº S/N</td>\n",
       "      <td>Campo en Venta, Cortaderas</td>\n",
       "      <td>763</td>\n",
       "    </tr>\n",
       "    <tr>\n",
       "      <th>178</th>\n",
       "      <td>28000.0</td>\n",
       "      <td>Excelente terreno con importante frente de ruta</td>\n",
       "      <td>Ruta 1 Km 18,5 Nº S/N</td>\n",
       "      <td>Terreno en Venta, Cortaderas</td>\n",
       "      <td>858</td>\n",
       "    </tr>\n",
       "    <tr>\n",
       "      <th>194</th>\n",
       "      <td>120000.0</td>\n",
       "      <td>Gran casa estilo campo</td>\n",
       "      <td>Juan Bautista Alberdi Nº S/N</td>\n",
       "      <td>Casa en Venta, Cortaderas</td>\n",
       "      <td>800</td>\n",
       "    </tr>\n",
       "    <tr>\n",
       "      <th>224</th>\n",
       "      <td>13000.0</td>\n",
       "      <td>Loteo a pasos del arroyo Benitez!! Unico</td>\n",
       "      <td>NaN</td>\n",
       "      <td>Terreno en Venta, Cortaderas</td>\n",
       "      <td>181</td>\n",
       "    </tr>\n",
       "    <tr>\n",
       "      <th>241</th>\n",
       "      <td>15000.0</td>\n",
       "      <td>Lote 500 mts Un verdadero mirador natural a la...</td>\n",
       "      <td>NaN</td>\n",
       "      <td>Terreno en Venta, Cortaderas</td>\n",
       "      <td>413</td>\n",
       "    </tr>\n",
       "    <tr>\n",
       "      <th>254</th>\n",
       "      <td>30000.0</td>\n",
       "      <td>4 Hectareas Cortaderas Balcarce</td>\n",
       "      <td>Cortaderas  Nº S/N</td>\n",
       "      <td>Terreno en Venta, Cortaderas</td>\n",
       "      <td>625</td>\n",
       "    </tr>\n",
       "    <tr>\n",
       "      <th>257</th>\n",
       "      <td>13000.0</td>\n",
       "      <td>Lote con salida a 2 calles!!! Cortaderas Centro</td>\n",
       "      <td>NaN</td>\n",
       "      <td>Terreno en Venta, Cortaderas</td>\n",
       "      <td>664</td>\n",
       "    </tr>\n",
       "    <tr>\n",
       "      <th>300</th>\n",
       "      <td>55000.0</td>\n",
       "      <td>15.000 mts de un Balcón Natural Recibe AUTO O ...</td>\n",
       "      <td>Las Chilcas Nº 500</td>\n",
       "      <td>Terreno en Venta, Cortaderas</td>\n",
       "      <td>169</td>\n",
       "    </tr>\n",
       "    <tr>\n",
       "      <th>307</th>\n",
       "      <td>37000.0</td>\n",
       "      <td>Lotes a pasos del Dique Piscu Yaco!</td>\n",
       "      <td>Acceso Al Dique Piscu Yaco Nº S/N</td>\n",
       "      <td>Terreno en Venta, Cortaderas</td>\n",
       "      <td>716</td>\n",
       "    </tr>\n",
       "    <tr>\n",
       "      <th>310</th>\n",
       "      <td>30000.0</td>\n",
       "      <td>Lote de 4000 m2 - Ideal emprendimiento</td>\n",
       "      <td>Ruta 1 Km 18 Nº S/N</td>\n",
       "      <td>Terreno en Venta, Cortaderas</td>\n",
       "      <td>860</td>\n",
       "    </tr>\n",
       "    <tr>\n",
       "      <th>311</th>\n",
       "      <td>35000.0</td>\n",
       "      <td>Lote de 5500m2 - Ideal cabañas</td>\n",
       "      <td>Ruta 1 Km 18 Nº S/N</td>\n",
       "      <td>Terreno en Venta, Cortaderas</td>\n",
       "      <td>861</td>\n",
       "    </tr>\n",
       "    <tr>\n",
       "      <th>312</th>\n",
       "      <td>180000.0</td>\n",
       "      <td>Extraordinaria fracción de 18000 m2 sobre ruta</td>\n",
       "      <td>Ruta 1 Km 19 Nº S/N</td>\n",
       "      <td>Terreno en Venta, Cortaderas</td>\n",
       "      <td>862</td>\n",
       "    </tr>\n",
       "    <tr>\n",
       "      <th>321</th>\n",
       "      <td>20000.0</td>\n",
       "      <td>Excepcionales lotes a metros del Arroyo Benítez.</td>\n",
       "      <td>Calle Pública- Arroyo Benitez Nº S/N</td>\n",
       "      <td>Terreno en Venta, Cortaderas</td>\n",
       "      <td>787</td>\n",
       "    </tr>\n",
       "    <tr>\n",
       "      <th>322</th>\n",
       "      <td>30000.0</td>\n",
       "      <td>Terreno Calle La Rubí</td>\n",
       "      <td>La Rubí Nº S/N</td>\n",
       "      <td>Terreno en Venta, Cortaderas</td>\n",
       "      <td>788</td>\n",
       "    </tr>\n",
       "    <tr>\n",
       "      <th>324</th>\n",
       "      <td>35000.0</td>\n",
       "      <td>Excelente terreno con casa en obra - Cortaderas</td>\n",
       "      <td>Publica Nº S/N</td>\n",
       "      <td>Terreno en Venta, Cortaderas</td>\n",
       "      <td>815</td>\n",
       "    </tr>\n",
       "    <tr>\n",
       "      <th>325</th>\n",
       "      <td>75000.0</td>\n",
       "      <td>Importante fracción de 3,32 HA, a metros del A...</td>\n",
       "      <td>Pública Nº S/N</td>\n",
       "      <td>Terreno en Venta, Cortaderas</td>\n",
       "      <td>807</td>\n",
       "    </tr>\n",
       "    <tr>\n",
       "      <th>327</th>\n",
       "      <td>65000.0</td>\n",
       "      <td>Excelente fracción sobre RP1, a metros de Cort...</td>\n",
       "      <td>Ruta 1 Km 17 Nº S/N</td>\n",
       "      <td>Terreno en Venta, Cortaderas</td>\n",
       "      <td>806</td>\n",
       "    </tr>\n",
       "    <tr>\n",
       "      <th>328</th>\n",
       "      <td>15000.0</td>\n",
       "      <td>Terrenos de 1000 mts. en Cortaderas</td>\n",
       "      <td>Ruta 1 Km 18,5 Nº S/N</td>\n",
       "      <td>Terreno en Venta, Cortaderas</td>\n",
       "      <td>857</td>\n",
       "    </tr>\n",
       "    <tr>\n",
       "      <th>330</th>\n",
       "      <td>40000.0</td>\n",
       "      <td>Excelente fracción con frente de ruta</td>\n",
       "      <td>Ruta 1 Km 19 Nº S/N</td>\n",
       "      <td>Terreno en Venta, Cortaderas</td>\n",
       "      <td>859</td>\n",
       "    </tr>\n",
       "    <tr>\n",
       "      <th>347</th>\n",
       "      <td>530000.0</td>\n",
       "      <td>5ah. Dique Piscu Yaco</td>\n",
       "      <td>Dique Piscu Yaco  Nº S/N</td>\n",
       "      <td>Campo en Venta, Cortaderas</td>\n",
       "      <td>797</td>\n",
       "    </tr>\n",
       "    <tr>\n",
       "      <th>366</th>\n",
       "      <td>360000.0</td>\n",
       "      <td>Complejo de cabañas con costa de arroyo y magn...</td>\n",
       "      <td>Ruta 1 Km 21 Nº S/N</td>\n",
       "      <td>Hotel en Venta, Cortaderas</td>\n",
       "      <td>808</td>\n",
       "    </tr>\n",
       "  </tbody>\n",
       "</table>\n",
       "</div>"
      ],
      "text/plain": [
       "        Price                                        Descripcion  \\\n",
       "5     19080.0  Villa Elena Norte Condominio El Algarrobo Prev...   \n",
       "6     27500.0  Viva en Tierra Nativa...Increible lugar serran...   \n",
       "18   220000.0            Una hectárea en Cortaderas + 3 unidades   \n",
       "36    16000.0  Lote 1100 mts Un verdadero mirador natural a l...   \n",
       "42    25000.0       TERRENO LUGAR IDEAL EN ZONA DIQUE PISCU YACO   \n",
       "43    10000.0    Alquiler por Dia $ 10.000 para 5 TEMPORADA BAJA   \n",
       "74   180000.0  30 Has de Inmensidad y belleza para Emprendimi...   \n",
       "109  260000.0  Impresionante Casa de 3 plantas en Quebrada de...   \n",
       "127   19080.0                  Algarrobo Condominio Semi Cerrado   \n",
       "128    8000.0  Lote 500 mts con excepcional vista a las Sierr...   \n",
       "157   28000.0                              2000m2 sobre Ruta n°1   \n",
       "168   80000.0                      Importante fracción de 9250m2   \n",
       "170  150000.0  Ecogranja autosustentable turística - 17.400 m...   \n",
       "178   28000.0   Excelente terreno con importante frente de ruta    \n",
       "194  120000.0                             Gran casa estilo campo   \n",
       "224   13000.0           Loteo a pasos del arroyo Benitez!! Unico   \n",
       "241   15000.0  Lote 500 mts Un verdadero mirador natural a la...   \n",
       "254   30000.0                    4 Hectareas Cortaderas Balcarce   \n",
       "257   13000.0    Lote con salida a 2 calles!!! Cortaderas Centro   \n",
       "300   55000.0  15.000 mts de un Balcón Natural Recibe AUTO O ...   \n",
       "307   37000.0                Lotes a pasos del Dique Piscu Yaco!   \n",
       "310   30000.0             Lote de 4000 m2 - Ideal emprendimiento   \n",
       "311   35000.0                     Lote de 5500m2 - Ideal cabañas   \n",
       "312  180000.0     Extraordinaria fracción de 18000 m2 sobre ruta   \n",
       "321   20000.0   Excepcionales lotes a metros del Arroyo Benítez.   \n",
       "322   30000.0                              Terreno Calle La Rubí   \n",
       "324   35000.0    Excelente terreno con casa en obra - Cortaderas   \n",
       "325   75000.0  Importante fracción de 3,32 HA, a metros del A...   \n",
       "327   65000.0  Excelente fracción sobre RP1, a metros de Cort...   \n",
       "328   15000.0                Terrenos de 1000 mts. en Cortaderas   \n",
       "330   40000.0              Excelente fracción con frente de ruta   \n",
       "347  530000.0                              5ah. Dique Piscu Yaco   \n",
       "366  360000.0  Complejo de cabañas con costa de arroyo y magn...   \n",
       "\n",
       "                                  ItemAddressList  \\\n",
       "5       Algarrobo Condominio Semi Cerrado  Nº 200   \n",
       "6                                             NaN   \n",
       "18                   3 Unidades Con Pileta Nº S/N   \n",
       "36                                            NaN   \n",
       "42                     Ruta Al Piscu Yaco  Nº S/N   \n",
       "43             Alquiler Por Día Cortaderas Nº S/N   \n",
       "74                                  Km 27  Nº S/N   \n",
       "109                               Publica Nº 1200   \n",
       "127      Algarrobo Condominio Semi Cerrado Nº 200   \n",
       "128  Ruta 1 Km 23 - Balcones De San Miguel Nº S/N   \n",
       "157                               Ruta N°1 Nº S/N   \n",
       "168                          Ex Ruta 1 S/n Nº S/N   \n",
       "170                          Ruta 1 Km 22  Nº S/N   \n",
       "178                         Ruta 1 Km 18,5 Nº S/N   \n",
       "194                  Juan Bautista Alberdi Nº S/N   \n",
       "224                                           NaN   \n",
       "241                                           NaN   \n",
       "254                            Cortaderas  Nº S/N   \n",
       "257                                           NaN   \n",
       "300                            Las Chilcas Nº 500   \n",
       "307             Acceso Al Dique Piscu Yaco Nº S/N   \n",
       "310                           Ruta 1 Km 18 Nº S/N   \n",
       "311                           Ruta 1 Km 18 Nº S/N   \n",
       "312                           Ruta 1 Km 19 Nº S/N   \n",
       "321          Calle Pública- Arroyo Benitez Nº S/N   \n",
       "322                                La Rubí Nº S/N   \n",
       "324                                Publica Nº S/N   \n",
       "325                                Pública Nº S/N   \n",
       "327                           Ruta 1 Km 17 Nº S/N   \n",
       "328                         Ruta 1 Km 18,5 Nº S/N   \n",
       "330                           Ruta 1 Km 19 Nº S/N   \n",
       "347                      Dique Piscu Yaco  Nº S/N   \n",
       "366                           Ruta 1 Km 21 Nº S/N   \n",
       "\n",
       "                                        Zona  Codigo  \n",
       "5               Terreno en Venta, Cortaderas     736  \n",
       "6               Terreno en Venta, Cortaderas     360  \n",
       "18                 Casa en Venta, Cortaderas     480  \n",
       "36              Terreno en Venta, Cortaderas     162  \n",
       "42              Terreno en Venta, Cortaderas     816  \n",
       "43   Casa en Alquiler temporario, Cortaderas     685  \n",
       "74                Campo en Venta, Cortaderas     415  \n",
       "109                Casa en Venta, Cortaderas     841  \n",
       "127    Negocio Especial en Venta, Cortaderas     748  \n",
       "128             Terreno en Venta, Cortaderas     757  \n",
       "157             Terreno en Venta, Cortaderas     824  \n",
       "168             Terreno en Venta, Cortaderas     863  \n",
       "170               Campo en Venta, Cortaderas     763  \n",
       "178             Terreno en Venta, Cortaderas     858  \n",
       "194                Casa en Venta, Cortaderas     800  \n",
       "224             Terreno en Venta, Cortaderas     181  \n",
       "241             Terreno en Venta, Cortaderas     413  \n",
       "254             Terreno en Venta, Cortaderas     625  \n",
       "257             Terreno en Venta, Cortaderas     664  \n",
       "300             Terreno en Venta, Cortaderas     169  \n",
       "307             Terreno en Venta, Cortaderas     716  \n",
       "310             Terreno en Venta, Cortaderas     860  \n",
       "311             Terreno en Venta, Cortaderas     861  \n",
       "312             Terreno en Venta, Cortaderas     862  \n",
       "321             Terreno en Venta, Cortaderas     787  \n",
       "322             Terreno en Venta, Cortaderas     788  \n",
       "324             Terreno en Venta, Cortaderas     815  \n",
       "325             Terreno en Venta, Cortaderas     807  \n",
       "327             Terreno en Venta, Cortaderas     806  \n",
       "328             Terreno en Venta, Cortaderas     857  \n",
       "330             Terreno en Venta, Cortaderas     859  \n",
       "347               Campo en Venta, Cortaderas     797  \n",
       "366               Hotel en Venta, Cortaderas     808  "
      ]
     },
     "execution_count": 267,
     "metadata": {},
     "output_type": "execute_result"
    }
   ],
   "source": [
    "dfCarp"
   ]
  },
  {
   "cell_type": "code",
   "execution_count": null,
   "id": "23246959",
   "metadata": {},
   "outputs": [],
   "source": []
  },
  {
   "cell_type": "code",
   "execution_count": null,
   "id": "ceda8c4d",
   "metadata": {},
   "outputs": [],
   "source": []
  },
  {
   "cell_type": "code",
   "execution_count": null,
   "id": "e1010efd",
   "metadata": {},
   "outputs": [],
   "source": []
  }
 ],
 "metadata": {
  "kernelspec": {
   "display_name": "Python 3",
   "language": "python",
   "name": "python3"
  },
  "language_info": {
   "codemirror_mode": {
    "name": "ipython",
    "version": 3
   },
   "file_extension": ".py",
   "mimetype": "text/x-python",
   "name": "python",
   "nbconvert_exporter": "python",
   "pygments_lexer": "ipython3",
   "version": "3.8.8"
  }
 },
 "nbformat": 4,
 "nbformat_minor": 5
}
