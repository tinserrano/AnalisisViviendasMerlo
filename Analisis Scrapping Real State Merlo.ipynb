{
 "cells": [
  {
   "cell_type": "markdown",
   "id": "324a610b",
   "metadata": {},
   "source": [
    "# ¿Cuanto valen las Casas en Merlo San Luis?\n",
    "### Scrapeamos una inmobiliaria random, y analizamos los datos:"
   ]
  },
  {
   "cell_type": "code",
   "execution_count": 342,
   "id": "9d7d94f8",
   "metadata": {},
   "outputs": [],
   "source": [
    "import pandas as pd\n",
    "import seaborn as sns\n",
    "import matplotlib.pyplot as plt\n",
    "df = pd.read_csv('list.csv')"
   ]
  },
  {
   "cell_type": "code",
   "execution_count": 285,
   "id": "ce216919",
   "metadata": {},
   "outputs": [
    {
     "data": {
      "text/html": [
       "<div>\n",
       "<style scoped>\n",
       "    .dataframe tbody tr th:only-of-type {\n",
       "        vertical-align: middle;\n",
       "    }\n",
       "\n",
       "    .dataframe tbody tr th {\n",
       "        vertical-align: top;\n",
       "    }\n",
       "\n",
       "    .dataframe thead th {\n",
       "        text-align: right;\n",
       "    }\n",
       "</style>\n",
       "<table border=\"1\" class=\"dataframe\">\n",
       "  <thead>\n",
       "    <tr style=\"text-align: right;\">\n",
       "      <th></th>\n",
       "      <th>Price</th>\n",
       "      <th>Descripcion</th>\n",
       "      <th>ItemAddressList</th>\n",
       "      <th>Zona</th>\n",
       "      <th>Codigo</th>\n",
       "    </tr>\n",
       "  </thead>\n",
       "  <tbody>\n",
       "    <tr>\n",
       "      <th>0</th>\n",
       "      <td>U$D 109.900</td>\n",
       "      <td>Propiedad a Estrenar en barrio residencial, Me...</td>\n",
       "      <td>Chacho Peñaloza Y Cañada De Los Zainos Nº S/N</td>\n",
       "      <td>Casa en Venta, Merlo</td>\n",
       "      <td>490</td>\n",
       "    </tr>\n",
       "    <tr>\n",
       "      <th>1</th>\n",
       "      <td>U$D 120.000</td>\n",
       "      <td>Hermosa , brillante, moderna, con luz natural ...</td>\n",
       "      <td>Damas Mendocinas  Nº 636</td>\n",
       "      <td>Casa en Venta, Merlo</td>\n",
       "      <td>731</td>\n",
       "    </tr>\n",
       "    <tr>\n",
       "      <th>2</th>\n",
       "      <td>U$D 75.000</td>\n",
       "      <td>Queremos que tu tiempo lo uses en lo mas impor...</td>\n",
       "      <td>Publica Nº S/N</td>\n",
       "      <td>Casa en Venta, Merlo</td>\n",
       "      <td>784</td>\n",
       "    </tr>\n",
       "  </tbody>\n",
       "</table>\n",
       "</div>"
      ],
      "text/plain": [
       "         Price                                        Descripcion  \\\n",
       "0  U$D 109.900  Propiedad a Estrenar en barrio residencial, Me...   \n",
       "1  U$D 120.000  Hermosa , brillante, moderna, con luz natural ...   \n",
       "2   U$D 75.000  Queremos que tu tiempo lo uses en lo mas impor...   \n",
       "\n",
       "                                 ItemAddressList                  Zona  Codigo  \n",
       "0  Chacho Peñaloza Y Cañada De Los Zainos Nº S/N  Casa en Venta, Merlo     490  \n",
       "1                       Damas Mendocinas  Nº 636  Casa en Venta, Merlo     731  \n",
       "2                                 Publica Nº S/N  Casa en Venta, Merlo     784  "
      ]
     },
     "execution_count": 285,
     "metadata": {},
     "output_type": "execute_result"
    }
   ],
   "source": [
    "#Realizar conteo de los datos... cuantos en pesos en dolares y cuantos \"consulte precio?\"\n",
    "#Filtramos los datos de las publicaciones de Merlo\n",
    "df.head(3)"
   ]
  },
  {
   "cell_type": "code",
   "execution_count": 374,
   "id": "67508f7c",
   "metadata": {},
   "outputs": [
    {
     "data": {
      "text/plain": [
       "array(['Casa en Venta, Merlo', 'Casa en Venta, Carpintería',\n",
       "       'Terreno en Venta, Cortaderas', 'Casa en Venta, Santa María',\n",
       "       'Terreno en Venta, Los Molles', 'Casa en Venta, Los Molles',\n",
       "       'Campo en Venta, Cruz del Eje',\n",
       "       'Campo en Venta, Santa Rosa de Conlara',\n",
       "       'Tipo casa PH en Venta, Merlo', 'Campo en Venta, Concarán',\n",
       "       'Campo en Venta, Candelaria', 'Casa en Venta, Cortaderas',\n",
       "       'Terreno en Venta, Merlo', 'Campo en Venta, San Javier/Yacanto',\n",
       "       'Local en Venta, Merlo', 'Casa en Alquiler temporario, Cortaderas',\n",
       "       'Casa en Venta, Tilisarao', 'Terreno en Venta, Carpintería',\n",
       "       'Quinta en Venta, La Paz', 'Campo en Venta, Cortaderas',\n",
       "       'Hotel en Venta, Merlo', 'Negocio Especial en Venta, Merlo',\n",
       "       'Hotel en Venta, Carpintería', 'Campo en Venta, Villa del Carmen',\n",
       "       'Terreno en Venta, Papagayos', 'Departamento en Venta, Merlo',\n",
       "       'Terreno en Venta, San Javier/Yacanto',\n",
       "       'Negocio Especial en Venta, Cortaderas',\n",
       "       'Campo en Venta, San Francisco del Monte de Oro',\n",
       "       'Fondo de Comercio en Venta, Merlo', 'Casa en Venta, Luján',\n",
       "       'Terreno en Venta, Santa Rosa de Conlara',\n",
       "       'Terreno en Venta, Villa Larca', 'Hotel en Venta, Los Molles',\n",
       "       'Hotel en Alquiler temporario, Los Molles',\n",
       "       'Terreno en Venta, La Paz', 'Casa en Venta, Villa Larca',\n",
       "       'Casa en Venta, San Javier/Yacanto',\n",
       "       'Casa en Alquiler temporario, Merlo',\n",
       "       'Casa en Alquiler temporario, Los Molles',\n",
       "       'Casa en Alquiler temporario, Carpintería',\n",
       "       'Departamento en Venta, La Plata',\n",
       "       'Departamento en Alquiler, Carpintería',\n",
       "       'Terreno en Venta, Despeñaderos', 'Terreno en Venta, Tilisarao',\n",
       "       'Campo en Venta, Quines', 'Campo en Venta, Merlo',\n",
       "       'Campo en Venta, Lafinur', 'Campo en Venta, Carpintería',\n",
       "       'Campo en Venta, Luyaba', 'Campo en Venta, La Paz',\n",
       "       'Campo en Venta, Papagayos', 'Galpón en Venta, Carpintería',\n",
       "       'Local en Venta, Carpintería', 'Hotel en Venta, Tilisarao',\n",
       "       'Hotel en Venta, Cortaderas'], dtype=object)"
      ]
     },
     "execution_count": 374,
     "metadata": {},
     "output_type": "execute_result"
    }
   ],
   "source": [
    "#Se observan que algunos valores poseen el signo $, correspondería $ pero son con destino alquiler. Luego se las quita del análisis\n",
    "df[\"Zona\"].unique()"
   ]
  },
  {
   "cell_type": "code",
   "execution_count": 287,
   "id": "394bb931",
   "metadata": {},
   "outputs": [
    {
     "data": {
      "text/plain": [
       "array(['Casa en Venta, Merlo', 'Casa en Venta, Carpintería',\n",
       "       'Terreno en Venta, Cortaderas', 'Casa en Venta, Santa María',\n",
       "       'Terreno en Venta, Los Molles', 'Casa en Venta, Los Molles',\n",
       "       'Campo en Venta, Cruz del Eje',\n",
       "       'Campo en Venta, Santa Rosa de Conlara',\n",
       "       'Tipo casa PH en Venta, Merlo', 'Campo en Venta, Concarán',\n",
       "       'Campo en Venta, Candelaria', 'Casa en Venta, Cortaderas',\n",
       "       'Terreno en Venta, Merlo', 'Campo en Venta, San Javier/Yacanto',\n",
       "       'Local en Venta, Merlo', 'Casa en Alquiler temporario, Cortaderas',\n",
       "       'Casa en Venta, Tilisarao', 'Terreno en Venta, Carpintería',\n",
       "       'Quinta en Venta, La Paz', 'Campo en Venta, Cortaderas',\n",
       "       'Hotel en Venta, Merlo', 'Negocio Especial en Venta, Merlo',\n",
       "       'Hotel en Venta, Carpintería', 'Campo en Venta, Villa del Carmen',\n",
       "       'Terreno en Venta, Papagayos', 'Departamento en Venta, Merlo',\n",
       "       'Terreno en Venta, San Javier/Yacanto',\n",
       "       'Negocio Especial en Venta, Cortaderas',\n",
       "       'Campo en Venta, San Francisco del Monte de Oro',\n",
       "       'Fondo de Comercio en Venta, Merlo', 'Casa en Venta, Luján',\n",
       "       'Terreno en Venta, Santa Rosa de Conlara',\n",
       "       'Terreno en Venta, Villa Larca', 'Hotel en Venta, Los Molles',\n",
       "       'Hotel en Alquiler temporario, Los Molles',\n",
       "       'Terreno en Venta, La Paz', 'Casa en Venta, Villa Larca',\n",
       "       'Casa en Venta, San Javier/Yacanto',\n",
       "       'Casa en Alquiler temporario, Merlo',\n",
       "       'Casa en Alquiler temporario, Los Molles',\n",
       "       'Casa en Alquiler temporario, Carpintería',\n",
       "       'Departamento en Venta, La Plata',\n",
       "       'Departamento en Alquiler, Carpintería',\n",
       "       'Terreno en Venta, Despeñaderos', 'Terreno en Venta, Tilisarao',\n",
       "       'Campo en Venta, Quines', 'Campo en Venta, Merlo',\n",
       "       'Campo en Venta, Lafinur', 'Campo en Venta, Carpintería',\n",
       "       'Campo en Venta, Luyaba', 'Campo en Venta, La Paz',\n",
       "       'Campo en Venta, Papagayos', 'Galpón en Venta, Carpintería',\n",
       "       'Local en Venta, Carpintería', 'Hotel en Venta, Tilisarao',\n",
       "       'Hotel en Venta, Cortaderas'], dtype=object)"
      ]
     },
     "execution_count": 287,
     "metadata": {},
     "output_type": "execute_result"
    }
   ],
   "source": [
    "df[\"Zona\"].unique()"
   ]
  },
  {
   "cell_type": "code",
   "execution_count": 375,
   "id": "f516adbb",
   "metadata": {},
   "outputs": [],
   "source": [
    "valores = [\"U\", \"$\", \"D\", \"Consulte precio\"]\n",
    "for i in valores:\n",
    "    df[\"Price\"] = df[\"Price\"].apply(lambda x: x.replace(i,\"\"))"
   ]
  },
  {
   "cell_type": "code",
   "execution_count": 376,
   "id": "82053dca",
   "metadata": {},
   "outputs": [
    {
     "data": {
      "text/plain": [
       "370"
      ]
     },
     "execution_count": 376,
     "metadata": {},
     "output_type": "execute_result"
    }
   ],
   "source": [
    "len(df)"
   ]
  },
  {
   "cell_type": "code",
   "execution_count": 377,
   "id": "b0874d2c",
   "metadata": {},
   "outputs": [
    {
     "data": {
      "text/plain": [
       "269"
      ]
     },
     "execution_count": 377,
     "metadata": {},
     "output_type": "execute_result"
    }
   ],
   "source": [
    "df[\"Codigo\"].nunique()"
   ]
  },
  {
   "cell_type": "code",
   "execution_count": 378,
   "id": "3c7c6943",
   "metadata": {},
   "outputs": [],
   "source": [
    "df = df.drop_duplicates()"
   ]
  },
  {
   "cell_type": "code",
   "execution_count": 379,
   "id": "239f7405",
   "metadata": {},
   "outputs": [
    {
     "name": "stderr",
     "output_type": "stream",
     "text": [
      "<ipython-input-379-6bc97215f4dd>:2: FutureWarning: The default value of regex will change from True to False in a future version. In addition, single character regular expressions will *not* be treated as literal strings when regex=True.\n",
      "  df.Price = pd.to_numeric(df[\"Price\"].str.replace(\".\",\"\"))\n",
      "/Users/tinpenas/opt/anaconda3/lib/python3.8/site-packages/pandas/core/generic.py:5516: SettingWithCopyWarning: \n",
      "A value is trying to be set on a copy of a slice from a DataFrame.\n",
      "Try using .loc[row_indexer,col_indexer] = value instead\n",
      "\n",
      "See the caveats in the documentation: https://pandas.pydata.org/pandas-docs/stable/user_guide/indexing.html#returning-a-view-versus-a-copy\n",
      "  self[name] = value\n"
     ]
    }
   ],
   "source": [
    "#Algunos ajustes\n",
    "df.Price = pd.to_numeric(df[\"Price\"].str.replace(\".\",\"\"))"
   ]
  },
  {
   "cell_type": "code",
   "execution_count": 380,
   "id": "1504877d",
   "metadata": {},
   "outputs": [],
   "source": [
    "#Filtramos las publicaciones por Casas en Venta y por las Zonas que nos interesan\n",
    "dfCasas = df[df[\"Zona\"].str.contains(pat=\"Casa en Venta\")]\n",
    "dfCasas = dfCasas.drop([\"Codigo\"], axis=1)\n",
    "dfMerlo = dfCasas[dfCasas[\"Zona\"].str.contains(pat=\"Merlo\")]\n",
    "dfCarpinteria = dfCasas[dfCasas[\"Zona\"].str.contains(pat=\"Carpintería\")]\n",
    "dfCortaderas = dfCasas[dfCasas[\"Zona\"].str.contains(pat=\"Cortaderas\")]\n",
    "dfLosMolles = dfCasas[dfCasas[\"Zona\"].str.contains(pat=\"Los Molles\")]\n"
   ]
  },
  {
   "cell_type": "markdown",
   "id": "65cd79c4",
   "metadata": {},
   "source": [
    "### Cantidad de Casas por Población:"
   ]
  },
  {
   "cell_type": "code",
   "execution_count": 384,
   "id": "35acebd7",
   "metadata": {},
   "outputs": [
    {
     "name": "stdout",
     "output_type": "stream",
     "text": [
      "Casas en Merlo 47 \n",
      "Casas en Carpinteria 2 \n",
      "Casas en Cortaderas 3 \n",
      "Casas en Los Molles 7\n"
     ]
    }
   ],
   "source": [
    "print(\"Casas en Merlo\", len(dfMerlo), \"\\nCasas en Carpinteria\", len(dfCarpinteria), \"\\nCasas en Cortaderas\",len(dfCortaderas), \"\\nCasas en Los Molles\", len(dfLosMolles))"
   ]
  },
  {
   "cell_type": "code",
   "execution_count": 385,
   "id": "66f68243",
   "metadata": {},
   "outputs": [],
   "source": [
    "mean = [dfMerlo[\"Price\"].mean(), dfCarpinteria[\"Price\"].mean(), dfCortaderas[\"Price\"].mean(), dfLosMolles[\"Price\"].mean()]\n",
    "min = [dfMerlo[\"Price\"].min(), dfCarpinteria[\"Price\"].min(), dfCortaderas[\"Price\"].min(), dfLosMolles[\"Price\"].min()]\n",
    "max = [dfMerlo[\"Price\"].max(), dfCarpinteria[\"Price\"].max(), dfCortaderas[\"Price\"].max(), dfLosMolles[\"Price\"].max()]\n",
    "\n",
    "df2 = pd.DataFrame({\n",
    "        'Mean':mean, \n",
    "        'min':min, \n",
    "        'max':max,\n",
    "        })"
   ]
  },
  {
   "cell_type": "code",
   "execution_count": 386,
   "id": "86c15d9a",
   "metadata": {},
   "outputs": [
    {
     "data": {
      "text/html": [
       "<div>\n",
       "<style scoped>\n",
       "    .dataframe tbody tr th:only-of-type {\n",
       "        vertical-align: middle;\n",
       "    }\n",
       "\n",
       "    .dataframe tbody tr th {\n",
       "        vertical-align: top;\n",
       "    }\n",
       "\n",
       "    .dataframe thead th {\n",
       "        text-align: right;\n",
       "    }\n",
       "</style>\n",
       "<table border=\"1\" class=\"dataframe\">\n",
       "  <thead>\n",
       "    <tr style=\"text-align: right;\">\n",
       "      <th></th>\n",
       "      <th>Mean</th>\n",
       "      <th>min</th>\n",
       "      <th>max</th>\n",
       "    </tr>\n",
       "  </thead>\n",
       "  <tbody>\n",
       "    <tr>\n",
       "      <th>Merlo</th>\n",
       "      <td>144502.17</td>\n",
       "      <td>32000.0</td>\n",
       "      <td>600000.0</td>\n",
       "    </tr>\n",
       "    <tr>\n",
       "      <th>Carpinteria</th>\n",
       "      <td>69500.00</td>\n",
       "      <td>60000.0</td>\n",
       "      <td>79000.0</td>\n",
       "    </tr>\n",
       "    <tr>\n",
       "      <th>Cortaderas</th>\n",
       "      <td>200000.00</td>\n",
       "      <td>120000.0</td>\n",
       "      <td>260000.0</td>\n",
       "    </tr>\n",
       "    <tr>\n",
       "      <th>LosMolles</th>\n",
       "      <td>131428.57</td>\n",
       "      <td>45000.0</td>\n",
       "      <td>260000.0</td>\n",
       "    </tr>\n",
       "  </tbody>\n",
       "</table>\n",
       "</div>"
      ],
      "text/plain": [
       "                  Mean       min       max\n",
       "Merlo        144502.17   32000.0  600000.0\n",
       "Carpinteria   69500.00   60000.0   79000.0\n",
       "Cortaderas   200000.00  120000.0  260000.0\n",
       "LosMolles    131428.57   45000.0  260000.0"
      ]
     },
     "execution_count": 386,
     "metadata": {},
     "output_type": "execute_result"
    }
   ],
   "source": [
    "df2.rename(index={0:'Merlo',1:'Carpinteria',2:'Cortaderas',3:'LosMolles'}, inplace=True)\n",
    "df2 = round(df2,2)\n",
    "df2"
   ]
  },
  {
   "cell_type": "markdown",
   "id": "0ce8e352",
   "metadata": {},
   "source": [
    "Distribución de Cantidad de Publicaciones según el precio"
   ]
  },
  {
   "cell_type": "code",
   "execution_count": 387,
   "id": "36388191",
   "metadata": {},
   "outputs": [
    {
     "data": {
      "image/png": "[encoded data removed]",
      "text/plain": [
       "<Figure size 432x288 with 1 Axes>"
      ]
     },
     "metadata": {
      "needs_background": "light"
     },
     "output_type": "display_data"
    }
   ],
   "source": [
    "fig, ax = plt.subplots()\n",
    "\n",
    "ax.plot(df2[\"max\"], label=\"Máximo\")\n",
    "ax.plot(df2[\"Mean\"], label=\"Promedio\")\n",
    "ax.plot(df2[\"min\"], label=\"Minimo\")\n",
    "\n",
    "ax.legend()\n",
    "plt.title(\"Precios de Venta de Casas - Zona Villa de Merlo\")\n",
    "plt.show()\n"
   ]
  },
  {
   "cell_type": "markdown",
   "id": "0f3e1a88",
   "metadata": {},
   "source": [
    "### Analizamos la Distribución de Precios de Merlo\n",
    "Sólo esta población, dado que es la que posee la mayor cantidad de publicaciones"
   ]
  },
  {
   "cell_type": "code",
   "execution_count": 390,
   "id": "fe703c12",
   "metadata": {},
   "outputs": [
    {
     "data": {
      "text/plain": [
       "<seaborn.axisgrid.FacetGrid at 0x7fea287465b0>"
      ]
     },
     "execution_count": 390,
     "metadata": {},
     "output_type": "execute_result"
    },
    {
     "data": {
      "image/png": "[encoded data removed]",
      "text/plain": [
       "<Figure size 360x360 with 1 Axes>"
      ]
     },
     "metadata": {
      "needs_background": "light"
     },
     "output_type": "display_data"
    }
   ],
   "source": [
    "sns.displot(data=dfMerlo, x=\"Price\", kde = True)"
   ]
  },
  {
   "cell_type": "code",
   "execution_count": 391,
   "id": "38f37fc0",
   "metadata": {},
   "outputs": [
    {
     "data": {
      "text/plain": [
       "<AxesSubplot:xlabel='Price'>"
      ]
     },
     "execution_count": 391,
     "metadata": {},
     "output_type": "execute_result"
    },
    {
     "data": {
      "image/png": "[encoded data removed]",
      "text/plain": [
       "<Figure size 432x288 with 1 Axes>"
      ]
     },
     "metadata": {
      "needs_background": "light"
     },
     "output_type": "display_data"
    }
   ],
   "source": [
    "sns.boxplot(data=dfMerlo, x=\"Price\")"
   ]
  },
  {
   "cell_type": "markdown",
   "id": "224a5f2e",
   "metadata": {},
   "source": [
    "El presente análisis se realiza sólo de manera de práctica sobre las librerías Pandas, Matplotlib y Seaborn. (Datos extraídos con Selenium y BeautifulSoup). Uso con fines acádemicos / de práctica"
   ]
  }
 ],
 "metadata": {
  "kernelspec": {
   "display_name": "Python 3",
   "language": "python",
   "name": "python3"
  },
  "language_info": {
   "codemirror_mode": {
    "name": "ipython",
    "version": 3
   },
   "file_extension": ".py",
   "mimetype": "text/x-python",
   "name": "python",
   "nbconvert_exporter": "python",
   "pygments_lexer": "ipython3",
   "version": "3.8.8"
  }
 },
 "nbformat": 4,
 "nbformat_minor": 5
}
